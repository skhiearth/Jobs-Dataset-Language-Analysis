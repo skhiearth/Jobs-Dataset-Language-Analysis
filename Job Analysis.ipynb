{
 "cells": [
  {
   "cell_type": "markdown",
   "metadata": {},
   "source": [
    "# Jobs Dataset Programming Language Analysis\n",
    "\n",
    "## Problem Statement 1:\n",
    "Among Java, C++ and Python, which of the language has more job openings in India for Bachelor Degree Holder?\n",
    "\n",
    "Note: Here we will use the `BASIC QUALIFICATIONS` feature to find out whether bachelor degree for Job is required or not. Keywords that can be used are 'Bachelor', 'BS' and 'BA' and we will use the BASIC QUALIFICATIONS feature to find out whether Language is required for the job or not. Keywords that is used for language searching are 'Java', 'C++' or 'Python'.\n"
   ]
  },
  {
   "cell_type": "code",
   "execution_count": 1,
   "metadata": {},
   "outputs": [],
   "source": [
    "# Import required packages\n",
    "import pandas as pd\n",
    "import numpy as np\n",
    "import re"
   ]
  },
  {
   "cell_type": "code",
   "execution_count": 2,
   "metadata": {},
   "outputs": [
    {
     "name": "stdout",
     "output_type": "stream",
     "text": [
      "(3493, 7)\n"
     ]
    },
    {
     "data": {
      "text/html": [
       "<div>\n",
       "<style scoped>\n",
       "    .dataframe tbody tr th:only-of-type {\n",
       "        vertical-align: middle;\n",
       "    }\n",
       "\n",
       "    .dataframe tbody tr th {\n",
       "        vertical-align: top;\n",
       "    }\n",
       "\n",
       "    .dataframe thead th {\n",
       "        text-align: right;\n",
       "    }\n",
       "</style>\n",
       "<table border=\"1\" class=\"dataframe\">\n",
       "  <thead>\n",
       "    <tr style=\"text-align: right;\">\n",
       "      <th></th>\n",
       "      <th>Unnamed: 0</th>\n",
       "      <th>Title</th>\n",
       "      <th>location</th>\n",
       "      <th>Posting_date</th>\n",
       "      <th>DESCRIPTION</th>\n",
       "      <th>BASIC QUALIFICATIONS</th>\n",
       "      <th>PREFERRED QUALIFICATIONS</th>\n",
       "    </tr>\n",
       "  </thead>\n",
       "  <tbody>\n",
       "    <tr>\n",
       "      <td>0</td>\n",
       "      <td>0</td>\n",
       "      <td>Software Development Manager</td>\n",
       "      <td>US, WA, Seattle</td>\n",
       "      <td>March  1, 2018</td>\n",
       "      <td>You are an experienced hands-on manager with a...</td>\n",
       "      <td>· Proven track record of hiring and managing h...</td>\n",
       "      <td>· Experience building extremely high volume an...</td>\n",
       "    </tr>\n",
       "    <tr>\n",
       "      <td>1</td>\n",
       "      <td>1</td>\n",
       "      <td>Software Development Engineer</td>\n",
       "      <td>IN, KA, Bangalore</td>\n",
       "      <td>March  1, 2018</td>\n",
       "      <td>Amazon is driven by being “the world’s most cu...</td>\n",
       "      <td>· Bachelor’s Degree in Computer Science or rel...</td>\n",
       "      <td>· Experience building complex software systems...</td>\n",
       "    </tr>\n",
       "  </tbody>\n",
       "</table>\n",
       "</div>"
      ],
      "text/plain": [
       "   Unnamed: 0                          Title            location  \\\n",
       "0           0   Software Development Manager    US, WA, Seattle    \n",
       "1           1  Software Development Engineer  IN, KA, Bangalore    \n",
       "\n",
       "     Posting_date                                        DESCRIPTION  \\\n",
       "0  March  1, 2018  You are an experienced hands-on manager with a...   \n",
       "1  March  1, 2018  Amazon is driven by being “the world’s most cu...   \n",
       "\n",
       "                                BASIC QUALIFICATIONS  \\\n",
       "0  · Proven track record of hiring and managing h...   \n",
       "1  · Bachelor’s Degree in Computer Science or rel...   \n",
       "\n",
       "                            PREFERRED QUALIFICATIONS  \n",
       "0  · Experience building extremely high volume an...  \n",
       "1  · Experience building complex software systems...  "
      ]
     },
     "execution_count": 2,
     "metadata": {},
     "output_type": "execute_result"
    }
   ],
   "source": [
    "# Import the Amazon Jobs Dataset\n",
    "data = pd.read_csv('data/amazon_jobs_dataset.csv')\n",
    "\n",
    "# Inspecting the data\n",
    "print(data.shape)\n",
    "data.head(2)"
   ]
  },
  {
   "cell_type": "code",
   "execution_count": 3,
   "metadata": {},
   "outputs": [
    {
     "data": {
      "text/html": [
       "<div>\n",
       "<style scoped>\n",
       "    .dataframe tbody tr th:only-of-type {\n",
       "        vertical-align: middle;\n",
       "    }\n",
       "\n",
       "    .dataframe tbody tr th {\n",
       "        vertical-align: top;\n",
       "    }\n",
       "\n",
       "    .dataframe thead th {\n",
       "        text-align: right;\n",
       "    }\n",
       "</style>\n",
       "<table border=\"1\" class=\"dataframe\">\n",
       "  <thead>\n",
       "    <tr style=\"text-align: right;\">\n",
       "      <th></th>\n",
       "      <th>Title</th>\n",
       "      <th>location</th>\n",
       "      <th>Posting_date</th>\n",
       "      <th>DESCRIPTION</th>\n",
       "      <th>BASIC QUALIFICATIONS</th>\n",
       "      <th>PREFERRED QUALIFICATIONS</th>\n",
       "    </tr>\n",
       "  </thead>\n",
       "  <tbody>\n",
       "    <tr>\n",
       "      <td>0</td>\n",
       "      <td>Software Development Manager</td>\n",
       "      <td>US, WA, Seattle</td>\n",
       "      <td>March  1, 2018</td>\n",
       "      <td>You are an experienced hands-on manager with a...</td>\n",
       "      <td>· Proven track record of hiring and managing h...</td>\n",
       "      <td>· Experience building extremely high volume an...</td>\n",
       "    </tr>\n",
       "    <tr>\n",
       "      <td>1</td>\n",
       "      <td>Software Development Engineer</td>\n",
       "      <td>IN, KA, Bangalore</td>\n",
       "      <td>March  1, 2018</td>\n",
       "      <td>Amazon is driven by being “the world’s most cu...</td>\n",
       "      <td>· Bachelor’s Degree in Computer Science or rel...</td>\n",
       "      <td>· Experience building complex software systems...</td>\n",
       "    </tr>\n",
       "  </tbody>\n",
       "</table>\n",
       "</div>"
      ],
      "text/plain": [
       "                           Title            location    Posting_date  \\\n",
       "0   Software Development Manager    US, WA, Seattle   March  1, 2018   \n",
       "1  Software Development Engineer  IN, KA, Bangalore   March  1, 2018   \n",
       "\n",
       "                                         DESCRIPTION  \\\n",
       "0  You are an experienced hands-on manager with a...   \n",
       "1  Amazon is driven by being “the world’s most cu...   \n",
       "\n",
       "                                BASIC QUALIFICATIONS  \\\n",
       "0  · Proven track record of hiring and managing h...   \n",
       "1  · Bachelor’s Degree in Computer Science or rel...   \n",
       "\n",
       "                            PREFERRED QUALIFICATIONS  \n",
       "0  · Experience building extremely high volume an...  \n",
       "1  · Experience building complex software systems...  "
      ]
     },
     "execution_count": 3,
     "metadata": {},
     "output_type": "execute_result"
    }
   ],
   "source": [
    "# Dropping a redundant column from the dataset\n",
    "data.drop(data.columns[[0]], axis = 1, inplace = True) \n",
    "data.head(2)"
   ]
  },
  {
   "cell_type": "code",
   "execution_count": 4,
   "metadata": {},
   "outputs": [
    {
     "data": {
      "text/html": [
       "<div>\n",
       "<style scoped>\n",
       "    .dataframe tbody tr th:only-of-type {\n",
       "        vertical-align: middle;\n",
       "    }\n",
       "\n",
       "    .dataframe tbody tr th {\n",
       "        vertical-align: top;\n",
       "    }\n",
       "\n",
       "    .dataframe thead th {\n",
       "        text-align: right;\n",
       "    }\n",
       "</style>\n",
       "<table border=\"1\" class=\"dataframe\">\n",
       "  <thead>\n",
       "    <tr style=\"text-align: right;\">\n",
       "      <th></th>\n",
       "      <th>Title</th>\n",
       "      <th>location</th>\n",
       "      <th>Posting_date</th>\n",
       "      <th>DESCRIPTION</th>\n",
       "      <th>BASIC QUALIFICATIONS</th>\n",
       "      <th>PREFERRED QUALIFICATIONS</th>\n",
       "      <th>Country</th>\n",
       "      <th>State</th>\n",
       "      <th>City</th>\n",
       "    </tr>\n",
       "  </thead>\n",
       "  <tbody>\n",
       "    <tr>\n",
       "      <td>1</td>\n",
       "      <td>Software Development Engineer</td>\n",
       "      <td>IN, KA, Bangalore</td>\n",
       "      <td>March  1, 2018</td>\n",
       "      <td>Amazon is driven by being “the world’s most cu...</td>\n",
       "      <td>· Bachelor’s Degree in Computer Science or rel...</td>\n",
       "      <td>· Experience building complex software systems...</td>\n",
       "      <td>IN</td>\n",
       "      <td>KA</td>\n",
       "      <td>Bangalore</td>\n",
       "    </tr>\n",
       "    <tr>\n",
       "      <td>2</td>\n",
       "      <td>Software Development Engineer</td>\n",
       "      <td>IN, KA, Bangalore</td>\n",
       "      <td>March  1, 2018</td>\n",
       "      <td>Amazon is driven by being “the world’s most cu...</td>\n",
       "      <td>· Bachelor’s Degree in Computer Science or rel...</td>\n",
       "      <td>· Experience building complex software systems...</td>\n",
       "      <td>IN</td>\n",
       "      <td>KA</td>\n",
       "      <td>Bangalore</td>\n",
       "    </tr>\n",
       "  </tbody>\n",
       "</table>\n",
       "</div>"
      ],
      "text/plain": [
       "                           Title            location    Posting_date  \\\n",
       "1  Software Development Engineer  IN, KA, Bangalore   March  1, 2018   \n",
       "2  Software Development Engineer  IN, KA, Bangalore   March  1, 2018   \n",
       "\n",
       "                                         DESCRIPTION  \\\n",
       "1  Amazon is driven by being “the world’s most cu...   \n",
       "2  Amazon is driven by being “the world’s most cu...   \n",
       "\n",
       "                                BASIC QUALIFICATIONS  \\\n",
       "1  · Bachelor’s Degree in Computer Science or rel...   \n",
       "2  · Bachelor’s Degree in Computer Science or rel...   \n",
       "\n",
       "                            PREFERRED QUALIFICATIONS Country State  \\\n",
       "1  · Experience building complex software systems...      IN    KA   \n",
       "2  · Experience building complex software systems...      IN    KA   \n",
       "\n",
       "          City  \n",
       "1   Bangalore   \n",
       "2   Bangalore   "
      ]
     },
     "execution_count": 4,
     "metadata": {},
     "output_type": "execute_result"
    }
   ],
   "source": [
    "# Feature engineering `Country`, `State` and `City` from the `location` column.\n",
    "data[['Country','State', 'City']] = data.location.str.split(\",\",expand=True)\n",
    "india_data = data[data['Country']=='IN']\n",
    "india_data.head(2)"
   ]
  },
  {
   "cell_type": "code",
   "execution_count": 5,
   "metadata": {},
   "outputs": [
    {
     "data": {
      "text/html": [
       "<div>\n",
       "<style scoped>\n",
       "    .dataframe tbody tr th:only-of-type {\n",
       "        vertical-align: middle;\n",
       "    }\n",
       "\n",
       "    .dataframe tbody tr th {\n",
       "        vertical-align: top;\n",
       "    }\n",
       "\n",
       "    .dataframe thead th {\n",
       "        text-align: right;\n",
       "    }\n",
       "</style>\n",
       "<table border=\"1\" class=\"dataframe\">\n",
       "  <thead>\n",
       "    <tr style=\"text-align: right;\">\n",
       "      <th></th>\n",
       "      <th>Title</th>\n",
       "      <th>location</th>\n",
       "      <th>Posting_date</th>\n",
       "      <th>DESCRIPTION</th>\n",
       "      <th>BASIC QUALIFICATIONS</th>\n",
       "      <th>PREFERRED QUALIFICATIONS</th>\n",
       "      <th>Country</th>\n",
       "      <th>State</th>\n",
       "      <th>City</th>\n",
       "    </tr>\n",
       "  </thead>\n",
       "  <tbody>\n",
       "    <tr>\n",
       "      <td>1</td>\n",
       "      <td>Software Development Engineer</td>\n",
       "      <td>IN, KA, Bangalore</td>\n",
       "      <td>March  1, 2018</td>\n",
       "      <td>Amazon is driven by being “the world’s most cu...</td>\n",
       "      <td>· Bachelor’s Degree in Computer Science or rel...</td>\n",
       "      <td>· Experience building complex software systems...</td>\n",
       "      <td>IN</td>\n",
       "      <td>KA</td>\n",
       "      <td>Bangalore</td>\n",
       "    </tr>\n",
       "    <tr>\n",
       "      <td>2</td>\n",
       "      <td>Software Development Engineer</td>\n",
       "      <td>IN, KA, Bangalore</td>\n",
       "      <td>March  1, 2018</td>\n",
       "      <td>Amazon is driven by being “the world’s most cu...</td>\n",
       "      <td>· Bachelor’s Degree in Computer Science or rel...</td>\n",
       "      <td>· Experience building complex software systems...</td>\n",
       "      <td>IN</td>\n",
       "      <td>KA</td>\n",
       "      <td>Bangalore</td>\n",
       "    </tr>\n",
       "  </tbody>\n",
       "</table>\n",
       "</div>"
      ],
      "text/plain": [
       "                           Title            location    Posting_date  \\\n",
       "1  Software Development Engineer  IN, KA, Bangalore   March  1, 2018   \n",
       "2  Software Development Engineer  IN, KA, Bangalore   March  1, 2018   \n",
       "\n",
       "                                         DESCRIPTION  \\\n",
       "1  Amazon is driven by being “the world’s most cu...   \n",
       "2  Amazon is driven by being “the world’s most cu...   \n",
       "\n",
       "                                BASIC QUALIFICATIONS  \\\n",
       "1  · Bachelor’s Degree in Computer Science or rel...   \n",
       "2  · Bachelor’s Degree in Computer Science or rel...   \n",
       "\n",
       "                            PREFERRED QUALIFICATIONS Country State  \\\n",
       "1  · Experience building complex software systems...      IN    KA   \n",
       "2  · Experience building complex software systems...      IN    KA   \n",
       "\n",
       "          City  \n",
       "1   Bangalore   \n",
       "2   Bangalore   "
      ]
     },
     "execution_count": 5,
     "metadata": {},
     "output_type": "execute_result"
    }
   ],
   "source": [
    "# Subsetting data for openings for Indian undergrads.\n",
    "india_data_undergrad = india_data[india_data['BASIC QUALIFICATIONS'].str.contains(\"Bachelor|BS|BA\")==True]\n",
    "india_data_undergrad.head(2)"
   ]
  },
  {
   "cell_type": "code",
   "execution_count": 6,
   "metadata": {},
   "outputs": [],
   "source": [
    "java_india_undergrad = india_data_undergrad[india_data_undergrad['BASIC QUALIFICATIONS'].str.contains(\"Java\")]\n",
    "python_india_undergrad = india_data_undergrad[india_data_undergrad['BASIC QUALIFICATIONS'].str.contains(\"Python\")]\n",
    "cpp_india_undergrad = india_data_undergrad[india_data_undergrad['BASIC QUALIFICATIONS'].str.contains(re.escape(\"C++\"))]"
   ]
  },
  {
   "cell_type": "code",
   "execution_count": 7,
   "metadata": {},
   "outputs": [
    {
     "data": {
      "text/html": [
       "<div>\n",
       "<style scoped>\n",
       "    .dataframe tbody tr th:only-of-type {\n",
       "        vertical-align: middle;\n",
       "    }\n",
       "\n",
       "    .dataframe tbody tr th {\n",
       "        vertical-align: top;\n",
       "    }\n",
       "\n",
       "    .dataframe thead th {\n",
       "        text-align: right;\n",
       "    }\n",
       "</style>\n",
       "<table border=\"1\" class=\"dataframe\">\n",
       "  <thead>\n",
       "    <tr style=\"text-align: right;\">\n",
       "      <th></th>\n",
       "      <th>Language</th>\n",
       "      <th>Number of Jobs</th>\n",
       "    </tr>\n",
       "  </thead>\n",
       "  <tbody>\n",
       "    <tr>\n",
       "      <td>0</td>\n",
       "      <td>Java</td>\n",
       "      <td>103</td>\n",
       "    </tr>\n",
       "    <tr>\n",
       "      <td>1</td>\n",
       "      <td>Python</td>\n",
       "      <td>30</td>\n",
       "    </tr>\n",
       "    <tr>\n",
       "      <td>2</td>\n",
       "      <td>C++</td>\n",
       "      <td>70</td>\n",
       "    </tr>\n",
       "  </tbody>\n",
       "</table>\n",
       "</div>"
      ],
      "text/plain": [
       "  Language  Number of Jobs\n",
       "0     Java             103\n",
       "1   Python              30\n",
       "2      C++              70"
      ]
     },
     "execution_count": 7,
     "metadata": {},
     "output_type": "execute_result"
    }
   ],
   "source": [
    "bachelorJobsIndiaData_byLang = [['Java', java_india_undergrad.shape[0]], \n",
    "                         ['Python', python_india_undergrad.shape[0]], \n",
    "                         ['C++', cpp_india_undergrad.shape[0]]] \n",
    "\n",
    "bachelorJobsIndia_byLang = pd.DataFrame(bachelorJobsIndiaData_byLang, \n",
    "                                        columns = ['Language', 'Number of Jobs']) \n",
    "\n",
    "bachelorJobsIndia_byLang"
   ]
  },
  {
   "cell_type": "markdown",
   "metadata": {},
   "source": [
    "**Analysis: In India, `Java` has the most number of job openings (103) for Undergrads.**"
   ]
  },
  {
   "cell_type": "markdown",
   "metadata": {},
   "source": [
    "## Problem Statement 2:\n",
    "Find the country where Amazon need the most number of Java Developer.\n",
    "\n",
    "Note: Here we will use the `BASIC QUALIFICATIONS` feature to find out whether Java is required for the job or not. Keyword to be used is 'Java'."
   ]
  },
  {
   "cell_type": "code",
   "execution_count": 8,
   "metadata": {},
   "outputs": [],
   "source": [
    "# Subsetting data for all jobs mentioning the keyword `Java` in the `Basic Qualifications`\n",
    "java = data[data['BASIC QUALIFICATIONS'].str.contains(\"Java\") == True]"
   ]
  },
  {
   "cell_type": "code",
   "execution_count": 9,
   "metadata": {},
   "outputs": [
    {
     "name": "stdout",
     "output_type": "stream",
     "text": [
      "The country with the most openings for Java developers is: US, with 2009 openings.\n"
     ]
    }
   ],
   "source": [
    "java_grouped = java.groupby(['Country']).size().sort_values(ascending=False)\n",
    "\n",
    "print(\"The country with the most openings for Java developers is: {}, with {} openings.\"\\\n",
    "      .format(java_grouped.index[0], java_grouped[0]))"
   ]
  }
 ],
 "metadata": {
  "kernelspec": {
   "display_name": "Python 3",
   "language": "python",
   "name": "python3"
  },
  "language_info": {
   "codemirror_mode": {
    "name": "ipython",
    "version": 3
   },
   "file_extension": ".py",
   "mimetype": "text/x-python",
   "name": "python",
   "nbconvert_exporter": "python",
   "pygments_lexer": "ipython3",
   "version": "3.7.4"
  }
 },
 "nbformat": 4,
 "nbformat_minor": 2
}
